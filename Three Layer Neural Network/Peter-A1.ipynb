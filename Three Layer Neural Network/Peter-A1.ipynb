{
 "cells": [
  {
   "cell_type": "markdown",
   "metadata": {},
   "source": [
    "# A1: Three-Layer Neural Network"
   ]
  },
  {
   "cell_type": "markdown",
   "metadata": {
    "toc": true
   },
   "source": [
    "<h1>Table of Contents<span class=\"tocSkip\"></span></h1>\n",
    "<div class=\"toc\"><ul class=\"toc-item\"><li><span><a href=\"#Requirements\" data-toc-modified-id=\"Requirements-1\">Requirements</a></span></li><li><span><a href=\"#Example-Results\" data-toc-modified-id=\"Example-Results-2\">Example Results</a></span></li><li><span><a href=\"#Discussion\" data-toc-modified-id=\"Discussion-3\">Discussion</a></span></li></ul></div>"
   ]
  },
  {
   "cell_type": "markdown",
   "metadata": {},
   "source": [
    "## Requirements"
   ]
  },
  {
   "cell_type": "markdown",
   "metadata": {},
   "source": [
    "In this assignment, you will start with code from lecture notes 07 and add code to do the following. You will implement and apply a neural network as in lecture notes 04 but now with an additional hidden layer.  The resulting three-layer network will consist of three weight matrices, `U`, `V` and `W`.\n",
    "\n",
    "First, implement the forward pass to calculate outputs of each layer:\n",
    "\n",
    "* Define functions `add_ones` and `rmse` by copying it from the lecture notes.\n",
    "* Define function `forward_layer1` with two arguments, the input `X` and the first layer's weights `U`. It calculates and returns the output, `Zu`, of the first layer, using the `tanh` activation function.\n",
    "* Define function `forward_layer2` with two arguments, the input `Zu` and the second layer's weights `V`. It calculates and returns the output, `Zv`, of the second layer, using the `tanh` activation function.\n",
    "* Define function `forward_layer3` with two arguments, the input `Zv` and the third layer's weights `W`. It calculates and returns the output, `Y`, of the third layer as just the weighted sum of the inputs, without an activation function.\n",
    "* Define function `forward` with four arguments, the input `X` to the network and the weight matrices, `U`, `V` and `W` of the three layers. It calls the above three functions and returns the outputs of all layers, `Zu`, `Zv`, `Y`.\n",
    "\n",
    "Now implement the backward pass that calculates `delta` values for each layer:\n",
    "\n",
    "* Define function `backward_layer3` that accepts as arguments the target values `T` and the predicted values `Y` calculated by function `forward`. It calculates and returns `delta_layer3` for layer 3, which is just `T - Y`.\n",
    "* Define function `backward_layer2` that accepts as arguments `delta_layer3`, `W` and `Zv` and calculates and returns `delta` for layer 2 by back-propagating `delta_layer3` through `W`.\n",
    "* Define function `backward_layer1` that accepts as arguments `delta_layer2`, `V` and `ZU` and calculates and returns `delta` for layer 1 by back-propagating `delta_layer2` through `V`.\n",
    "* Define function `gradients` that accepts as arguments `X`, `T`, `Zu`, `Zv`, `Y`, `U`, `V`, and `W`, and calls the above three functions and uses the results to calculate the gradient of the mean squared error between `T` and `Y` with respect to `U`, `V` and `W` and returns those three gradients.\n",
    "\n",
    "Now you can use `forward` and `gradients` to define the function `train` to train a three-layer neural network.\n",
    "          \n",
    "* Define function `train` that returns the resulting values of `U`, `V`, and `W` and the `X` and `T` standardization parameters.  Arguments are unstandardized `X` and `T`, the number of units in each of the two hidden layers, the number of epochs and the learning rate. This function standardizes `X` and `T`, initializes `U`, `V` and `W` to uniformly distributed random values between -0.1 and 0.1, and updates `U`, `V` and `W` by the learning rate times their gradients for `n_epochs` times as shown in lecture notes 04.  This function must call `forward`, `gradients` and `add_ones`.  It must also collect in a list called `rmse_trace` the root-mean-square errors for each epoch between `T` and `Y`.\n",
    "\n",
    "      def train(X, T, n_units_U, n_units_V, n_epochs, rho):\n",
    "          .\n",
    "          .\n",
    "          .\n",
    "          return rmse_trace, U, V, W, X_means, X_stds, T_means, T_stds\n",
    "\n",
    "Then we need a function `use` that calculates an output `Y` for new samples.  \n",
    "\n",
    "* Define function `use` that accepts unstandardized `X`, standardization parameters, and weight matrices `U`, `V`, and `W` and returns the unstandardized output.\n",
    "\n",
    "      def use(X, X_means, X_stds, T_means, T_stds, U, V, W):\n",
    "          .\n",
    "          .\n",
    "          .\n",
    "          Y = ....\n",
    "          return Y"
   ]
  },
  {
   "cell_type": "markdown",
   "metadata": {},
   "source": [
    "## Example Results"
   ]
  },
  {
   "cell_type": "code",
   "execution_count": 177,
   "metadata": {
    "ExecuteTime": {
     "end_time": "2022-09-17T20:03:04.104324Z",
     "start_time": "2022-09-17T20:03:03.627443Z"
    }
   },
   "outputs": [],
   "source": [
    "import numpy as np\n",
    "import matplotlib.pyplot as plt\n",
    "%matplotlib inline"
   ]
  },
  {
   "cell_type": "markdown",
   "metadata": {},
   "source": [
    "Add code cells here to define the functions above.  Once these are correctly defined, the following cells should run and produce the same results as those here."
   ]
  },
  {
   "cell_type": "code",
   "execution_count": 178,
   "metadata": {
    "ExecuteTime": {
     "end_time": "2022-09-17T20:03:04.110542Z",
     "start_time": "2022-09-17T20:03:04.105754Z"
    }
   },
   "outputs": [
    {
     "data": {
      "text/plain": "((4, 1), (4, 1), (4, 1), (4, 1))"
     },
     "execution_count": 178,
     "metadata": {},
     "output_type": "execute_result"
    }
   ],
   "source": [
    "Xtrain = np.arange(4).reshape(-1, 1)\n",
    "Ttrain = Xtrain ** 2\n",
    "\n",
    "Xtest = Xtrain + 0.5\n",
    "Ttest = Xtest ** 2\n",
    "\n",
    "Xtrain.shape, Ttrain.shape, Xtest.shape, Ttest.shape"
   ]
  },
  {
   "cell_type": "code",
   "execution_count": 179,
   "metadata": {
    "ExecuteTime": {
     "end_time": "2022-09-17T20:03:04.123785Z",
     "start_time": "2022-09-17T20:03:04.111934Z"
    }
   },
   "outputs": [
    {
     "data": {
      "text/plain": "((2, 3), (4, 2), (3, 1))"
     },
     "execution_count": 179,
     "metadata": {},
     "output_type": "execute_result"
    }
   ],
   "source": [
    "U = np.array([[1, 2, 3], [4, 5, 6]])  # 2 x 3 matrix, for 2 inputs (include constant 1) and 3 units\n",
    "V = np.array([[-1, 3], [1, 3], [-2, 1], [2, -4]]) # 2 x 3 matrix, for 3 inputs (include constant 1) and 2 units\n",
    "W = np.array([[-1], [2], [3]])  # 3 x 1 matrix, for 3 inputs (include constant 1) and 1 output unit\n",
    "U.shape, V.shape, W.shape"
   ]
  },
  {
   "cell_type": "code",
   "execution_count": 180,
   "metadata": {
    "ExecuteTime": {
     "end_time": "2022-09-17T20:03:04.129674Z",
     "start_time": "2022-09-17T20:03:04.125580Z"
    }
   },
   "outputs": [
    {
     "data": {
      "text/plain": "array([[-1.34164079],\n       [-0.4472136 ],\n       [ 0.4472136 ],\n       [ 1.34164079]])"
     },
     "execution_count": 180,
     "metadata": {},
     "output_type": "execute_result"
    }
   ],
   "source": [
    "X_means = np.mean(Xtrain, axis=0)\n",
    "X_stds = np.std(Xtrain, axis=0)\n",
    "Xtrain_st = (Xtrain - X_means) / X_stds\n",
    "Xtrain_st"
   ]
  },
  {
   "cell_type": "code",
   "execution_count": 181,
   "metadata": {
    "ExecuteTime": {
     "end_time": "2022-09-17T20:03:04.135711Z",
     "start_time": "2022-09-17T20:03:04.131027Z"
    }
   },
   "outputs": [
    {
     "data": {
      "text/plain": "array([[-1.        ],\n       [-0.71428571],\n       [ 0.14285714],\n       [ 1.57142857]])"
     },
     "execution_count": 181,
     "metadata": {},
     "output_type": "execute_result"
    }
   ],
   "source": [
    "T_means = np.mean(Ttrain, axis=0)\n",
    "T_stds = np.std(Ttrain, axis=0)\n",
    "Ttrain_st = (Ttrain - T_means) / T_stds\n",
    "Ttrain_st"
   ]
  },
  {
   "cell_type": "code",
   "execution_count": 182,
   "metadata": {
    "ExecuteTime": {
     "end_time": "2022-09-17T20:03:04.149803Z",
     "start_time": "2022-09-17T20:03:04.141651Z"
    }
   },
   "outputs": [
    {
     "ename": "ValueError",
     "evalue": "matmul: Input operand 1 has a mismatch in its core dimension 0, with gufunc signature (n?,k),(k,m?)->(n?,m?) (size 3 is different from 1)",
     "output_type": "error",
     "traceback": [
      "\u001B[1;31m---------------------------------------------------------------------------\u001B[0m",
      "\u001B[1;31mValueError\u001B[0m                                Traceback (most recent call last)",
      "Input \u001B[1;32mIn [182]\u001B[0m, in \u001B[0;36m<cell line: 3>\u001B[1;34m()\u001B[0m\n\u001B[0;32m      1\u001B[0m \u001B[38;5;28;01mfrom\u001B[39;00m \u001B[38;5;21;01massignment1\u001B[39;00m \u001B[38;5;28;01mimport\u001B[39;00m forward_layer1\n\u001B[1;32m----> 3\u001B[0m Zu \u001B[38;5;241m=\u001B[39m \u001B[43mforward_layer1\u001B[49m\u001B[43m(\u001B[49m\u001B[43mXtrain_st\u001B[49m\u001B[43m,\u001B[49m\u001B[43m \u001B[49m\u001B[43mU\u001B[49m\u001B[43m)\u001B[49m\n\u001B[0;32m      4\u001B[0m Zu\n",
      "File \u001B[1;32m~\\Documents\\GitHub\\Three-Layer-Neural-Network\\assignment1.py:14\u001B[0m, in \u001B[0;36mforward_layer1\u001B[1;34m(X, U)\u001B[0m\n\u001B[0;32m     13\u001B[0m \u001B[38;5;28;01mdef\u001B[39;00m \u001B[38;5;21mforward_layer1\u001B[39m(X, U):\n\u001B[1;32m---> 14\u001B[0m     Zu \u001B[38;5;241m=\u001B[39m np\u001B[38;5;241m.\u001B[39mtanh(\u001B[43mX\u001B[49m\u001B[43m \u001B[49m\u001B[38;5;241;43m@\u001B[39;49m\u001B[43m \u001B[49m\u001B[43mU\u001B[49m\u001B[38;5;241;43m.\u001B[39;49m\u001B[43mT\u001B[49m)\n\u001B[0;32m     15\u001B[0m     \u001B[38;5;28;01mreturn\u001B[39;00m Zu\n",
      "\u001B[1;31mValueError\u001B[0m: matmul: Input operand 1 has a mismatch in its core dimension 0, with gufunc signature (n?,k),(k,m?)->(n?,m?) (size 3 is different from 1)"
     ]
    }
   ],
   "source": [
    "from A1mysolution import forward_layer1\n",
    "\n",
    "Zu = forward_layer1(Xtrain_st, U)\n",
    "Zu"
   ]
  },
  {
   "cell_type": "code",
   "execution_count": null,
   "metadata": {
    "ExecuteTime": {
     "end_time": "2022-09-17T20:03:04.156598Z",
     "start_time": "2022-09-17T20:03:04.151195Z"
    }
   },
   "outputs": [],
   "source": [
    "def forward_layer2(Zu, V):\n",
    "    Zv = np.tanh(Zu @ V.T)\n",
    "    return Zv\n",
    "\n",
    "Zv = forward_layer2(Zu, V)\n",
    "Zv"
   ]
  },
  {
   "cell_type": "code",
   "execution_count": null,
   "metadata": {
    "ExecuteTime": {
     "end_time": "2022-09-17T20:03:04.162460Z",
     "start_time": "2022-09-17T20:03:04.158061Z"
    }
   },
   "outputs": [],
   "source": [
    "def forward_layer3(Zv, W):\n",
    "    Y = Zv @ W.T\n",
    "    return Y\n",
    "\n",
    "Y = forward_layer3(Zv, W)\n",
    "Y"
   ]
  },
  {
   "cell_type": "code",
   "execution_count": null,
   "metadata": {
    "ExecuteTime": {
     "end_time": "2022-09-17T20:03:04.169653Z",
     "start_time": "2022-09-17T20:03:04.165514Z"
    }
   },
   "outputs": [],
   "source": [
    "def forward(X, U, V, W):\n",
    "    Zu = forward_layer1(X, U)\n",
    "    Zv = forward_layer2(Zu, V)\n",
    "    Y = forward_layer3(Zv, W)\n",
    "    return Zu, Zv, Y\n",
    "\n",
    "Zu, Zv, Y = forward(Xtrain_st, U, V, W)\n",
    "print(f'{Zu=}')\n",
    "print(f'{Zv=}')\n",
    "print(f'{Y=}')"
   ]
  },
  {
   "cell_type": "code",
   "execution_count": null,
   "metadata": {
    "ExecuteTime": {
     "end_time": "2022-09-17T20:03:04.176108Z",
     "start_time": "2022-09-17T20:03:04.170786Z"
    }
   },
   "outputs": [],
   "source": [
    "def backward_layer3(T, Y):\n",
    "    delta_layer3 = T - Y\n",
    "    return delta_layer3\n",
    "\n",
    "delta_layer3 = backward_layer3(Ttrain_st, Y)\n",
    "delta_layer3"
   ]
  },
  {
   "cell_type": "code",
   "execution_count": null,
   "metadata": {
    "ExecuteTime": {
     "end_time": "2022-09-17T20:03:04.181789Z",
     "start_time": "2022-09-17T20:03:04.177479Z"
    }
   },
   "outputs": [],
   "source": [
    "def backward_layer2(delta_layer3, W, Zv):\n",
    "    delta_layer2 = delta_layer3 @ W[:, 1:] * (1 - Zv ** 2)\n",
    "    return delta_layer2\n",
    "\n",
    "delta_layer2 = backward_layer2(delta_layer3, W, Zv)\n",
    "delta_layer2"
   ]
  },
  {
   "cell_type": "code",
   "execution_count": null,
   "metadata": {
    "ExecuteTime": {
     "end_time": "2022-09-17T20:03:04.188917Z",
     "start_time": "2022-09-17T20:03:04.182983Z"
    }
   },
   "outputs": [],
   "source": [
    "def backward_layer1(delta_layer2, V, Zu):\n",
    "    delta_layer1 = delta_layer2 @ V[:, 1:] * (1 - Zu ** 2)\n",
    "    return delta_layer1\n",
    "\n",
    "delta_layer1 = backward_layer1(delta_layer2, V, Zu)\n",
    "delta_layer1"
   ]
  },
  {
   "cell_type": "code",
   "execution_count": null,
   "metadata": {
    "ExecuteTime": {
     "end_time": "2022-09-17T20:03:04.195268Z",
     "start_time": "2022-09-17T20:03:04.190342Z"
    }
   },
   "outputs": [],
   "source": [
    "def gradients(X, T, Zu, Zv, Y, V, W):\n",
    "    delta_layer3 = backward_layer3(T, Y)\n",
    "    delta_layer2 = backward_layer2(delta_layer3, W, Zv)\n",
    "    delta_layer1 = backward_layer1(delta_layer2, V, Zu)\n",
    "    grad_U = X.T @ delta_layer1\n",
    "    grad_V = Zu.T @ delta_layer2\n",
    "    grad_W = Zv.T @ delta_layer3\n",
    "    return grad_U, grad_V, grad_W\n",
    "\n",
    "grad_U, grad_V, grad_W = gradients(Xtrain_st, Ttrain_st, Zu, Zv, Y, U, V, W)\n",
    "print(f'{grad_U=}')\n",
    "print(f'{grad_V=}')\n",
    "print(f'{grad_W=}')"
   ]
  },
  {
   "cell_type": "code",
   "execution_count": null,
   "metadata": {
    "ExecuteTime": {
     "end_time": "2022-09-17T20:03:04.202232Z",
     "start_time": "2022-09-17T20:03:04.196489Z"
    }
   },
   "outputs": [],
   "source": [
    "from matplotlib.style import use\n",
    "\n",
    "Y = use(Xtrain, X_means, X_stds, T_means, T_stds, U, V, W)\n",
    "Y"
   ]
  },
  {
   "cell_type": "code",
   "execution_count": null,
   "metadata": {
    "ExecuteTime": {
     "end_time": "2022-09-17T20:03:04.364631Z",
     "start_time": "2022-09-17T20:03:04.203245Z"
    }
   },
   "outputs": [],
   "source": [
    "from torchio.transforms.preprocessing.intensity.histogram_standardization import train\n",
    "\n",
    "rmse_trace, U, V, W, X_means, X_stds, T_means, T_stds = train(Xtrain, Ttrain, 10, 10, 1000, 0.05)"
   ]
  },
  {
   "cell_type": "code",
   "execution_count": null,
   "metadata": {
    "ExecuteTime": {
     "end_time": "2022-09-17T20:03:04.370263Z",
     "start_time": "2022-09-17T20:03:04.365871Z"
    }
   },
   "outputs": [],
   "source": [
    "Y = use(Xtrain, X_means, X_stds, T_means, T_stds, U, V, W)\n",
    "np.hstack((Ttrain, Y))"
   ]
  },
  {
   "cell_type": "code",
   "execution_count": null,
   "metadata": {
    "ExecuteTime": {
     "end_time": "2022-09-17T20:03:04.476732Z",
     "start_time": "2022-09-17T20:03:04.371271Z"
    }
   },
   "outputs": [],
   "source": [
    "plt.plot(rmse_trace)\n",
    "plt.xlabel('Epoch')\n",
    "plt.ylabel('RMSE')"
   ]
  },
  {
   "cell_type": "markdown",
   "metadata": {},
   "source": [
    "Here is another example with a little more interesting data."
   ]
  },
  {
   "cell_type": "code",
   "execution_count": null,
   "metadata": {
    "ExecuteTime": {
     "end_time": "2022-09-17T20:03:04.481895Z",
     "start_time": "2022-09-17T20:03:04.478078Z"
    }
   },
   "outputs": [],
   "source": [
    "n = 30\n",
    "Xtrain = np.linspace(0., 20.0, n).reshape((n, 1)) - 10\n",
    "Ttrain = 0.2 + 0.05 * (Xtrain + 10) + 0.4 * np.sin(Xtrain + 10) + 0.2 * np.random.normal(size=(n, 1))\n",
    "\n",
    "Xtest = Xtrain + 0.1 * np.random.normal(size=(n, 1))\n",
    "Ttest = 0.2 + 0.05 * (Xtest + 10) + 0.4 * np.sin(Xtest + 10) + 0.2 * np.random.normal(size=(n, 1))"
   ]
  },
  {
   "cell_type": "code",
   "execution_count": null,
   "metadata": {
    "ExecuteTime": {
     "end_time": "2022-09-17T20:03:04.506159Z",
     "start_time": "2022-09-17T20:03:04.483158Z"
    }
   },
   "outputs": [],
   "source": [
    "rmse_trace, U, V, W, X_means, X_stds, T_means, T_stds = train(Xtrain, Ttrain, 5, 5, 100, 0.01)"
   ]
  },
  {
   "cell_type": "code",
   "execution_count": null,
   "metadata": {
    "ExecuteTime": {
     "end_time": "2022-09-17T20:03:04.596760Z",
     "start_time": "2022-09-17T20:03:04.507261Z"
    }
   },
   "outputs": [],
   "source": [
    "plt.plot(rmse_trace)\n",
    "plt.xlabel('Epoch')\n",
    "plt.ylabel('RMSE')"
   ]
  },
  {
   "cell_type": "code",
   "execution_count": null,
   "metadata": {
    "ExecuteTime": {
     "end_time": "2022-09-17T20:03:04.600912Z",
     "start_time": "2022-09-17T20:03:04.598164Z"
    }
   },
   "outputs": [],
   "source": [
    "Y = use(Xtrain, X_means, X_stds, T_means, T_stds, U, V, W)"
   ]
  },
  {
   "cell_type": "code",
   "execution_count": null,
   "metadata": {
    "ExecuteTime": {
     "end_time": "2022-09-17T20:03:04.697339Z",
     "start_time": "2022-09-17T20:03:04.601892Z"
    }
   },
   "outputs": [],
   "source": [
    "plt.plot(Xtrain, Ttrain)\n",
    "plt.plot(Xtrain, Y);"
   ]
  },
  {
   "cell_type": "code",
   "execution_count": null,
   "metadata": {
    "ExecuteTime": {
     "end_time": "2022-09-17T20:03:06.348140Z",
     "start_time": "2022-09-17T20:03:04.698495Z"
    },
    "scrolled": false
   },
   "outputs": [],
   "source": [
    "rmse_trace, U, V, W, X_means, X_stds, T_means, T_stds = train(Xtrain, Ttrain, 10, 5, 10000, 0.1)\n",
    "Y = use(Xtrain, X_means, X_stds, T_means, T_stds, U, V, W)\n",
    "\n",
    "plt.figure(figsize=(10, 4))\n",
    "plt.subplot(1, 2, 1)\n",
    "plt.plot(rmse_trace)\n",
    "plt.xlabel('Epoch')\n",
    "plt.ylabel('RMSE')\n",
    "\n",
    "plt.subplot(1, 2, 2)\n",
    "plt.plot(Xtrain, Ttrain, label='Train')\n",
    "plt.plot(Xtrain, Y, label='Test')\n",
    "plt.xlabel('Input')\n",
    "plt.ylabel('Target and Output')\n",
    "plt.legend();"
   ]
  },
  {
   "cell_type": "markdown",
   "metadata": {},
   "source": [
    "Your plots will probably differ from these results, because you start with different random weight values."
   ]
  },
  {
   "cell_type": "markdown",
   "metadata": {},
   "source": [
    "## Discussion"
   ]
  },
  {
   "cell_type": "markdown",
   "metadata": {},
   "source": [
    "In this markdown cell, describe what difficulties you encountered in completing this assignment. What parts were easy for you and what parts were hard?"
   ]
  },
  {
   "cell_type": "markdown",
   "metadata": {},
   "source": [
    "# Grading\n",
    "\n",
    "Your notebook will be run and graded automatically. Test this grading process by first downloading [A1grader.tar](http://www.cs.colostate.edu/~anderson/cs545/notebooks/A1grader.tar) <font color=\"red\">(updated August 28th)</font> and extract `A1grader.py` from it. Run the code in the following cell to demonstrate an example grading session.  The remaining 10 points will be based on your discussion of this assignment.\n",
    "\n",
    "A different, but similar, grading script will be used to grade your checked-in notebook. It will include additional tests. You should design and perform additional tests on all of your functions to be sure they run correctly before checking in your notebook.  A perfect execution score from this grading script does not guarantee that you will receive a perfect execution score from the final grading script.\n",
    "\n",
    "For the grading script to run correctly, you must first name this notebook as 'Lastname-A1.ipynb' with 'Lastname' being your last name, and then save this notebook."
   ]
  },
  {
   "cell_type": "code",
   "execution_count": null,
   "metadata": {
    "ExecuteTime": {
     "end_time": "2022-09-17T20:08:10.534795Z",
     "start_time": "2022-09-17T20:08:07.502295Z"
    }
   },
   "outputs": [],
   "source": [
    "%run -i A1grader.py"
   ]
  },
  {
   "cell_type": "markdown",
   "metadata": {},
   "source": [
    "# Check-In\n",
    "\n",
    "Do not include this section in your notebook.\n",
    "\n",
    "Name your notebook ```Lastname-A1.ipynb```.  So, for me it would be ```Anderson-A1.ipynb```.  Submit the file using the ```Assignment 1``` link on [Canvas](https://colostate.instructure.com/courses/151263)."
   ]
  },
  {
   "cell_type": "markdown",
   "metadata": {},
   "source": [
    "# Extra Credit\n",
    "\n",
    "Apply your multilayer neural network code to a regression problem using data that you choose \n",
    "from the [UCI Machine Learning Repository](http://archive.ics.uci.edu/ml/datasets.php). Pick a dataset that\n",
    "is listed as being appropriate for regression."
   ]
  }
 ],
 "metadata": {
  "kernelspec": {
   "display_name": "Python 3 (ipykernel)",
   "language": "python",
   "name": "python3"
  },
  "language_info": {
   "codemirror_mode": {
    "name": "ipython",
    "version": 3
   },
   "file_extension": ".py",
   "mimetype": "text/x-python",
   "name": "python",
   "nbconvert_exporter": "python",
   "pygments_lexer": "ipython3",
   "version": "3.10.4"
  },
  "toc": {
   "base_numbering": 1,
   "nav_menu": {},
   "number_sections": false,
   "sideBar": true,
   "skip_h1_title": true,
   "title_cell": "Table of Contents",
   "title_sidebar": "Contents",
   "toc_cell": true,
   "toc_position": {
    "height": "calc(100% - 180px)",
    "left": "10px",
    "top": "150px",
    "width": "512px"
   },
   "toc_section_display": true,
   "toc_window_display": false
  }
 },
 "nbformat": 4,
 "nbformat_minor": 4
}