{
 "cells": [
  {
   "cell_type": "markdown",
   "metadata": {},
   "source": [
    "# Simple Animations in Jupyter Notebooks with `IPython.display`"
   ]
  },
  {
   "cell_type": "markdown",
   "metadata": {},
   "source": [
    "This notebook illustrates steps you might take in figuring out how to do simple animations in jupyter notebooks using `IPython.display` functions.  The second to last code cell shows the best way to make an animation.  Run each code cell to see its effects."
   ]
  },
  {
   "cell_type": "code",
   "execution_count": 1,
   "metadata": {
    "ExecuteTime": {
     "end_time": "2022-09-08T18:36:29.632951Z",
     "start_time": "2022-09-08T18:36:28.888364Z"
    }
   },
   "outputs": [
    {
     "ename": "ModuleNotFoundError",
     "evalue": "No module named 'numpy'",
     "output_type": "error",
     "traceback": [
      "\u001B[1;31m---------------------------------------------------------------------------\u001B[0m",
      "\u001B[1;31mModuleNotFoundError\u001B[0m                       Traceback (most recent call last)",
      "Cell \u001B[1;32mIn[1], line 1\u001B[0m\n\u001B[1;32m----> 1\u001B[0m \u001B[38;5;28;01mimport\u001B[39;00m \u001B[38;5;21;01mnumpy\u001B[39;00m \u001B[38;5;28;01mas\u001B[39;00m \u001B[38;5;21;01mnp\u001B[39;00m\n\u001B[0;32m      2\u001B[0m \u001B[38;5;28;01mimport\u001B[39;00m \u001B[38;5;21;01mmatplotlib\u001B[39;00m\u001B[38;5;21;01m.\u001B[39;00m\u001B[38;5;21;01mpyplot\u001B[39;00m \u001B[38;5;28;01mas\u001B[39;00m \u001B[38;5;21;01mplt\u001B[39;00m\n\u001B[0;32m      3\u001B[0m \u001B[38;5;28;01mimport\u001B[39;00m \u001B[38;5;21;01mIPython\u001B[39;00m\u001B[38;5;21;01m.\u001B[39;00m\u001B[38;5;21;01mdisplay\u001B[39;00m \u001B[38;5;28;01mas\u001B[39;00m \u001B[38;5;21;01mipd\u001B[39;00m  \u001B[38;5;66;03m# for display and clear_output\u001B[39;00m\n",
      "\u001B[1;31mModuleNotFoundError\u001B[0m: No module named 'numpy'"
     ]
    }
   ],
   "source": [
    "import numpy as np\n",
    "import matplotlib.pyplot as plt\n",
    "import IPython.display as ipd  # for display and clear_output\n",
    "import time  # for sleep"
   ]
  },
  {
   "cell_type": "code",
   "execution_count": null,
   "metadata": {
    "ExecuteTime": {
     "end_time": "2022-09-08T18:42:31.875371Z",
     "start_time": "2022-09-08T18:42:31.753774Z"
    }
   },
   "outputs": [],
   "source": [
    "xs = np.linspace(-1, 1, 100)\n",
    "for f in np.linspace(0, 10, 10):\n",
    "    plt.plot(xs, np.sin(f * xs))"
   ]
  },
  {
   "cell_type": "code",
   "execution_count": null,
   "metadata": {
    "ExecuteTime": {
     "end_time": "2022-09-08T18:42:43.111910Z",
     "start_time": "2022-09-08T18:42:42.162338Z"
    }
   },
   "outputs": [],
   "source": [
    "xs = np.linspace(-1, 1, 100)\n",
    "for f in np.linspace(0, 10, 10):\n",
    "    plt.figure()\n",
    "    plt.plot(xs, np.sin(f * xs))"
   ]
  },
  {
   "cell_type": "code",
   "execution_count": null,
   "metadata": {
    "ExecuteTime": {
     "end_time": "2022-09-08T18:42:49.938870Z",
     "start_time": "2022-09-08T18:42:49.817863Z"
    }
   },
   "outputs": [],
   "source": [
    "xs = np.linspace(-1, 1, 100)\n",
    "plt.figure()\n",
    "for f in np.linspace(0, 10, 10):\n",
    "    plt.plot(xs, np.sin(f * xs))"
   ]
  },
  {
   "cell_type": "code",
   "execution_count": null,
   "metadata": {
    "ExecuteTime": {
     "end_time": "2022-09-08T18:42:57.140767Z",
     "start_time": "2022-09-08T18:42:56.697426Z"
    }
   },
   "outputs": [],
   "source": [
    "xs = np.linspace(-1, 1, 100)\n",
    "plt.figure()\n",
    "for f in np.linspace(0, 10, 10):\n",
    "    plt.clf()\n",
    "    plt.plot(xs, np.sin(f * xs))"
   ]
  },
  {
   "cell_type": "code",
   "execution_count": null,
   "metadata": {
    "ExecuteTime": {
     "end_time": "2022-09-08T18:43:13.838253Z",
     "start_time": "2022-09-08T18:43:11.405483Z"
    },
    "scrolled": true
   },
   "outputs": [],
   "source": [
    "xs = np.linspace(-1, 1, 100)\n",
    "plt.figure()\n",
    "for f in np.linspace(0, 10, 10):\n",
    "    plt.clf()\n",
    "    plt.plot(xs, np.sin(f * xs))\n",
    "    time.sleep(0.2)  # 0.2 sec"
   ]
  },
  {
   "cell_type": "code",
   "execution_count": null,
   "metadata": {
    "ExecuteTime": {
     "end_time": "2022-09-08T18:43:29.543830Z",
     "start_time": "2022-09-08T18:43:26.285888Z"
    }
   },
   "outputs": [],
   "source": [
    "xs = np.linspace(-1, 1, 100)\n",
    "fig = plt.figure()\n",
    "for f in np.linspace(0, 10, 10):\n",
    "    plt.clf()\n",
    "    plt.plot(xs, np.sin(f * xs))\n",
    "    ipd.display(fig)\n",
    "    time.sleep(0.2)  # 0.2 seconds"
   ]
  },
  {
   "cell_type": "code",
   "execution_count": null,
   "metadata": {
    "ExecuteTime": {
     "end_time": "2022-09-08T18:43:42.531457Z",
     "start_time": "2022-09-08T18:43:39.177694Z"
    }
   },
   "outputs": [],
   "source": [
    "xs = np.linspace(-1, 1, 100)\n",
    "fig = plt.figure()\n",
    "for f in np.linspace(0, 10, 10):\n",
    "    plt.clf()\n",
    "    plt.plot(xs, np.sin(f * xs))\n",
    "    ipd.clear_output(wait=True)\n",
    "    ipd.display(fig)\n",
    "    time.sleep(0.2)  # 0.2 seconds"
   ]
  },
  {
   "cell_type": "code",
   "execution_count": null,
   "metadata": {
    "ExecuteTime": {
     "end_time": "2022-09-08T18:44:02.213015Z",
     "start_time": "2022-09-08T18:43:58.921865Z"
    }
   },
   "outputs": [],
   "source": [
    "xs = np.linspace(-1, 1, 100)\n",
    "fig = plt.figure()\n",
    "for f in np.linspace(0, 10, 10):\n",
    "    plt.clf()\n",
    "    plt.plot(xs, np.sin(f * xs))\n",
    "    ipd.clear_output(wait=True)\n",
    "    ipd.display(fig)\n",
    "    time.sleep(0.2)  # 0.2 seconds\n",
    "ipd.clear_output(wait=True)"
   ]
  },
  {
   "cell_type": "code",
   "execution_count": null,
   "metadata": {
    "ExecuteTime": {
     "end_time": "2022-09-08T18:44:18.796747Z",
     "start_time": "2022-09-08T18:44:15.806150Z"
    }
   },
   "outputs": [],
   "source": [
    "xs = np.linspace(-1, 1, 100)\n",
    "fig = plt.figure()\n",
    "for f in np.linspace(0, 10, 10):\n",
    "    #plt.clf()\n",
    "    plt.plot(xs, np.sin(f * xs))\n",
    "    ipd.clear_output(wait=True)\n",
    "    ipd.display(fig)\n",
    "    time.sleep(0.2)  # 0.2 seconds\n",
    "ipd.clear_output(wait=True)"
   ]
  },
  {
   "cell_type": "code",
   "execution_count": null,
   "metadata": {},
   "outputs": [],
   "source": []
  }
 ],
 "metadata": {
  "anaconda-cloud": {},
  "kernelspec": {
   "display_name": "Python 3 (ipykernel)",
   "language": "python",
   "name": "python3"
  },
  "language_info": {
   "codemirror_mode": {
    "name": "ipython",
    "version": 3
   },
   "file_extension": ".py",
   "mimetype": "text/x-python",
   "name": "python",
   "nbconvert_exporter": "python",
   "pygments_lexer": "ipython3",
   "version": "3.8.13"
  },
  "toc": {
   "base_numbering": 1,
   "nav_menu": {},
   "number_sections": true,
   "sideBar": true,
   "skip_h1_title": false,
   "title_cell": "Table of Contents",
   "title_sidebar": "Contents",
   "toc_cell": false,
   "toc_position": {},
   "toc_section_display": true,
   "toc_window_display": false
  }
 },
 "nbformat": 4,
 "nbformat_minor": 1
}